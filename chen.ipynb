{
 "cells": [
  {
   "cell_type": "code",
   "execution_count": null,
   "id": "5b4f21b5",
   "metadata": {},
   "outputs": [],
   "source": [
    "#model = chen.ConventionalFTS(partitioner=fs)\n",
    "#model.fit(prosesdata)\n",
    "#model.append_transformation(tdiff)\n",
    "#print(model)\n",
    "\n",
    "#forecasts = model.predict(prosesdata)\n",
    "#print (\"test :\", forecasts)\n",
    "\n",
    "#prediction = model.predict(prosesdata, transformation=tdiff)\n",
    "#print (prediction)\n",
    "\n",
    "#fig = go.Figure()\n",
    "#fig.add_trace(go.Scatter(x=data.index, y=prosesdata,\n",
    "                    #mode='lines',\n",
    "                    #name='Real'))\n",
    "#fig.add_trace(go.Scatter(x=data.index, y=prediction,\n",
    "                    #mode='lines',\n",
    "                    #name='Prediction'))\n",
    "#fig.show()\n",
    "\n",
    "#print(\"RMSE :\",np.sqrt(mean_squared_error(prosesdata, prediction)))\n",
    "#print(\"MAE :\", mean_absolute_error(prosesdata, prediction))\n",
    "#print(\"MAPE :\", mean_absolute_percentage_error(prosesdata, prediction))\n",
    "\n",
    "#prediction_train = model.predict(train, transformation=tdiff)\n",
    "#fig = go.Figure()\n",
    "#fig.add_trace(go.Scatter(x=data.index[:-10], y=train,\n",
    "                    #mode='lines',\n",
    "                    #name='Real'))\n",
    "#fig.add_trace(go.Scatter(x=data.index[:-10], y=prediction_train,\n",
    "                    #mode='lines',\n",
    "                    #name='Prediction'))\n",
    "#fig.show()"
   ]
  }
 ],
 "metadata": {
  "kernelspec": {
   "display_name": "Python 3 (ipykernel)",
   "language": "python",
   "name": "python3"
  },
  "language_info": {
   "codemirror_mode": {
    "name": "ipython",
    "version": 3
   },
   "file_extension": ".py",
   "mimetype": "text/x-python",
   "name": "python",
   "nbconvert_exporter": "python",
   "pygments_lexer": "ipython3",
   "version": "3.8.5"
  }
 },
 "nbformat": 4,
 "nbformat_minor": 5
}
